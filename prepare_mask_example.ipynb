{
 "cells": [
  {
   "cell_type": "code",
   "execution_count": null,
   "id": "9e2ee588-781b-49d3-ac14-55930e66155a",
   "metadata": {},
   "outputs": [],
   "source": [
    "\"\"\"\n",
    "Created on Wed Dec 15 13:54 2021\n",
    "\n",
    "This is an example script to prepare the mask file\n",
    "\n",
    "@author: Clara Burgard\n",
    "\"\"\""
   ]
  },
  {
   "cell_type": "code",
   "execution_count": null,
   "id": "70c90411-d75a-482f-8360-589906cf755b",
   "metadata": {},
   "outputs": [],
   "source": [
    "import xarray as xr\n",
    "import numpy as np\n",
    "from tqdm.notebook import trange, tqdm\n",
    "import multimelt.plume_functions as pf\n",
    "import multimelt.box_functions as bf\n",
    "import multimelt.create_isf_mask_functions as isfmf"
   ]
  },
  {
   "cell_type": "markdown",
   "id": "fc21a1ff-0c9f-4540-878f-f64236bec2e6",
   "metadata": {},
   "source": [
    "Read in data"
   ]
  },
  {
   "cell_type": "code",
   "execution_count": null,
   "id": "b7345074-b721-4c53-9f9f-2a2d6dd60dbf",
   "metadata": {},
   "outputs": [],
   "source": [
    "inputpath_metadata = './multimelt/mask_info/'\n",
    "outputpath_mask = # path where you want to store your mask netcdf file"
   ]
  },
  {
   "cell_type": "code",
   "execution_count": null,
   "id": "0c365a55-8e2a-4d6f-8b83-d166694e46d7",
   "metadata": {},
   "outputs": [],
   "source": [
    "file_bed_orig = # xr.DataArray containing the bathymetry (on grid EPSG:3031)\n",
    "file_draft = # xr.DataArray containing the actual ice draft depth (not smoothed out through a grid cell mean when the ice concentration is <1)\n",
    "file_msk = # xr.DataArray containing mask: 0 = ocean, 1 = ice shelves, 2 = grounded ice (on grid EPSG:3031)\n",
    "file_isf_conc = # xr.DataArray containing the ice shelf concentration in each grid cell\n",
    "\n",
    "xx = file_msk['x']\n",
    "yy = file_msk['y']"
   ]
  },
  {
   "cell_type": "markdown",
   "id": "1a2629e9-f5e6-4faf-9ede-3b0d7a300570",
   "metadata": {},
   "source": [
    "Create the masks for ice shelves/ground/pinning points/grounding line"
   ]
  },
  {
   "cell_type": "code",
   "execution_count": null,
   "id": "199de099-4535-4bd4-b6e5-b16128c7739e",
   "metadata": {},
   "outputs": [],
   "source": [
    "whole_ds = isfmf.create_mask_and_metadata_isf(\n",
    "                    file_msk, # file containing info about the grid (needs to be a domain centered around the South Pole!)                                       \n",
    "                    -1*file_bed_orig, # negative bathymetry           \n",
    "                    file_msk, # original mask\n",
    "                    -1*file_draft, # negative ice draft depth\n",
    "                    file_isf_conc, # ice shelf concentration\n",
    "                    False, # not chunked (CAREFUL! chunks not necessarily supported yet)\n",
    "                    inputpath_metadata+'lonlat_masks.txt', # lon/lat boundaries of the ice shelves\n",
    "                    outputpath_mask, # output path for output to write out intermediate steps\n",
    "                    inputpath_metadata + 'iceshelves_metadata_Nico.txt', # file containing name and Rignot data about the different ice shelves\n",
    "                    inputpath_metadata+'GL_flux_rignot13.csv', # file containing the flux at the grounding line from Rignot et al 2013\n",
    "                    ground_point ='no', # if 'yes', the grounding line is defined on the ice shelf points at the border to the ground\n",
    "                    FRIS_one=True, # do you want to count Filchner-Ronne as one ice shelf? True if yes, False if you want to have them as two separate ice shelves\n",
    "                    write_ismask = 'yes', write_groundmask = 'yes', write_outfile='yes', # if you already wrote one of these files, you can set option to 'no'\n",
    "                    dist=40, # Defines the size of the starting square for the ground mask - should be small if the resolution is coarse and high if the resolution is fine - can be modulated\n",
    "                    add_fac=120, # Defines additional iterations for the propagation for the ground mask - can be modulated\n",
    "                    write_metadata = 'yes' # writes out the file with only metadata\n",
    "                    ) \n",
    "\n",
    "# Write to netcdf\n",
    "print('------- WRITE TO NETCDF -----------')\n",
    "whole_ds.to_netcdf(outputpath_mask + 'mask_file.nc','w')"
   ]
  },
  {
   "cell_type": "markdown",
   "id": "7d4a79d5-01fa-4b17-9c64-320bad8a4625",
   "metadata": {},
   "source": [
    "Prepare the box characteristics (writes the output directly to files)"
   ]
  },
  {
   "cell_type": "code",
   "execution_count": null,
   "id": "66eeaadc-2051-46fc-8573-7bb2954cd760",
   "metadata": {},
   "outputs": [],
   "source": [
    "whole_ds = xr.open_dataset(outputpath_mask + 'mask_file.nc')\n",
    "\n",
    "nonnan_Nisf = whole_ds['Nisf'].where(np.isfinite(whole_ds['front_bot_depth_max']), drop=True).astype(int)\n",
    "file_isf_nonnan = whole_ds.sel(Nisf=nonnan_Nisf)\n",
    "large_isf = file_isf_nonnan['Nisf'].where(file_isf_nonnan['isf_area_here'] >= 2500, drop=True) # only look at ice shelves with area larger than 2500 km2\n",
    "file_isf = file_isf_nonnan.sel(Nisf=large_isf)"
   ]
  },
  {
   "cell_type": "code",
   "execution_count": null,
   "id": "79364960-65f4-4172-8f26-91a5affb3a0a",
   "metadata": {},
   "outputs": [],
   "source": [
    "isf_var_of_int = file_isf[['ISF_mask', 'GL_mask', 'dGL', 'dIF', 'latitude', 'longitude', 'isf_name']]\n",
    "out_2D, out_1D = bf.box_charac_file(file_isf['Nisf'],isf_var_of_int, -1*file_draft, file_isf_conc, outputpath_boxes, max_nb_box=10)\n",
    "\n",
    "print('------ WRITE TO NETCDF -------')\n",
    "out_2D.to_netcdf(outputpath_boxes + 'boxes_2D.nc', 'w')\n",
    "out_1D.to_netcdf(outputpath_boxes + 'boxes_1D.nc', 'w')"
   ]
  },
  {
   "cell_type": "markdown",
   "id": "967e92cf-e517-4c7d-b8d1-96d1a6ad4119",
   "metadata": {},
   "source": [
    "Prepare the plume characteristics"
   ]
  },
  {
   "cell_type": "code",
   "execution_count": null,
   "id": "c9c922bd-9578-4cce-9030-b2ee91047d5b",
   "metadata": {},
   "outputs": [],
   "source": [
    "plume_param_options = ['simple','lazero', 'appenB']\n",
    "\n",
    "plume_var_of_int = file_isf[['ISF_mask', 'GL_mask', 'IF_mask', 'dIF', 'dGL_dIF', 'latitude', 'longitude', 'front_ice_depth_avg']]\n",
    "\n",
    "# Compute the ice draft\n",
    "ice_draft_pos = file_draft\n",
    "ice_draft_neg = -1*ice_draft_pos\n",
    "\n",
    "plume_charac = pf.prepare_plume_charac(plume_param_options, ice_draft_pos, plume_var_of_int)\n",
    "\n",
    "print('------ WRITE TO NETCDF -------')\n",
    "plume_charac.to_netcdf(outputpath_plumes+'plume_characteristics.nc', 'w')"
   ]
  }
 ],
 "metadata": {
  "kernelspec": {
   "display_name": "py38",
   "language": "python",
   "name": "py38"
  },
  "language_info": {
   "codemirror_mode": {
    "name": "ipython",
    "version": 3
   },
   "file_extension": ".py",
   "mimetype": "text/x-python",
   "name": "python",
   "nbconvert_exporter": "python",
   "pygments_lexer": "ipython3",
   "version": "3.8.12"
  }
 },
 "nbformat": 4,
 "nbformat_minor": 5
}
