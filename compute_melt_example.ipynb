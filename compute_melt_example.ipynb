{
 "cells": [
  {
   "cell_type": "markdown",
   "id": "165244b6-b50c-44d1-9f38-84eda7360059",
   "metadata": {},
   "source": [
    "\n",
    "Created on Fri Sep 18 14:29 2021 (Author: Clara Burgard)\n",
    "\n",
    "This is an example script to apply multimelt\n",
    "\n"
   ]
  },
  {
   "cell_type": "code",
   "execution_count": null,
   "id": "hungry-trader",
   "metadata": {},
   "outputs": [],
   "source": [
    "import xarray as xr\n",
    "import numpy as np\n",
    "import matplotlib.pyplot as plt\n",
    "from matplotlib import cm\n",
    "import cartopy\n",
    "import cartopy.crs as ccrs\n",
    "import matplotlib as mpl\n",
    "import pandas as pd  \n",
    "from tqdm.notebook import trange, tqdm\n",
    "import time\n",
    "import multimelt.melt_functions as meltf\n",
    "import multimelt.plume_functions as pf\n",
    "import multimelt.analysis_functions as ana\n",
    "import multimelt.useful_functions as uf\n",
    "from multimelt.constants import *\n",
    "import seaborn as sns\n",
    "import os, glob\n",
    "import distributed"
   ]
  },
  {
   "cell_type": "markdown",
   "id": "valuable-pillow",
   "metadata": {},
   "source": [
    "READ IN DATA"
   ]
  },
  {
   "cell_type": "code",
   "execution_count": null,
   "id": "informative-socket",
   "metadata": {},
   "outputs": [],
   "source": [
    "inputpath_data= #path to folder containing file_other and file_conc\n",
    "inputpath_mask = #path to folder containing file_isf_orig\n",
    "inputpath_profiles = #path to folder containing file_TS_orig\n",
    "outputpath_simple = #path to folder containing gammas_file_simple\n",
    "\n",
    "inputpath_plumes =  #path to folder containing the file with plume characteristics\n",
    "inputpath_boxes = #path to folder containing the file with box characteristics\n",
    "\n",
    "outputpath_melt = #path to write out output"
   ]
  },
  {
   "cell_type": "code",
   "execution_count": null,
   "id": "further-prison",
   "metadata": {},
   "outputs": [],
   "source": [
    "# make the domain a little smaller to make the computation even more efficient - file isf has already been made smaller at its creation\n",
    "map_lim = [-3000000,3000000]"
   ]
  },
  {
   "cell_type": "code",
   "execution_count": null,
   "id": "straight-hearts",
   "metadata": {},
   "outputs": [],
   "source": [
    "file_other = xr.open_dataset(inputpath_data+'corrected_draft_bathy_isf.nc') #file containing 'corrected_isfdraft'\n",
    "file_other_cut = uf.cut_domain_stereo(file_other, map_lim, map_lim)\n",
    "file_conc = xr.open_dataset(inputpath_data+'isfdraft_conc_Ant_stereo.nc') #file containing 'isfdraft_conc'\n",
    "file_conc_cut = uf.cut_domain_stereo(file_conc, map_lim, map_lim)"
   ]
  },
  {
   "cell_type": "code",
   "execution_count": null,
   "id": "designing-hollow",
   "metadata": {},
   "outputs": [],
   "source": [
    "file_isf_orig = xr.open_dataset(inputpath_mask+'mask_file.nc') #file containing 'ISF_mask','latitude', 'longitude','front_bot_depth_avg', 'front_bot_depth_max','isf_name'\n",
    "nonnan_Nisf = file_isf_orig['Nisf'].where(np.isfinite(file_isf_orig['front_bot_depth_max']), drop=True).astype(int)\n",
    "file_isf_nonnan = file_isf_orig.sel(Nisf=nonnan_Nisf)\n",
    "large_isf = file_isf_nonnan['Nisf'].where(file_isf_nonnan['isf_area_here'] >= 2500, drop=True)\n",
    "file_isf = file_isf_nonnan.sel(Nisf=large_isf)\n",
    "file_isf['isf_name'] = file_isf['isf_name'].astype(str)\n",
    "file_isf['region'] = file_isf['region'].astype(str)\n",
    "\n",
    "file_TS_orig = xr.open_dataset(inputpath_profiles+'T_S_mean_prof_corrected_km_contshelf_and_offshore_1980-2018.nc') #file containing 'theta_ocean' and 'salinity_ocean'\n",
    "file_TS = file_TS_orig.sel(Nisf=large_isf)"
   ]
  },
  {
   "cell_type": "code",
   "execution_count": null,
   "id": "utility-market",
   "metadata": {},
   "outputs": [],
   "source": [
    "box_charac_all_2D = xr.open_dataset(inputpath_boxes + 'nemo_5km_boxes_2D.nc')\n",
    "box_charac_all_1D = xr.open_dataset(inputpath_boxes + 'nemo_5km_boxes_1D.nc')\n",
    "plume_charac = xr.open_dataset(inputpath_plumes+'nemo_5km_plume_characteristics.nc')"
   ]
  },
  {
   "cell_type": "markdown",
   "id": "477aa052-bb4e-4bf5-b3bf-ce6605ac4de1",
   "metadata": {},
   "source": [
    "PREPARE DATA"
   ]
  },
  {
   "cell_type": "code",
   "execution_count": null,
   "id": "streaming-telescope",
   "metadata": {},
   "outputs": [],
   "source": [
    "lon = file_isf.longitude\n",
    "lat = file_isf.latitude"
   ]
  },
  {
   "cell_type": "code",
   "execution_count": null,
   "id": "vocal-plain",
   "metadata": {},
   "outputs": [],
   "source": [
    "file_isf_conc = file_conc_cut['isfdraft_conc']\n",
    "\n",
    "xx = file_isf.x\n",
    "yy = file_isf.y\n",
    "dx = (xx[2] - xx[1]).values\n",
    "dy = (yy[2] - yy[1]).values\n",
    "grid_cell_area = abs(dx*dy)  \n",
    "grid_cell_area_weighted = file_isf_conc * grid_cell_area"
   ]
  },
  {
   "cell_type": "code",
   "execution_count": null,
   "id": "dated-checkout",
   "metadata": {},
   "outputs": [],
   "source": [
    "ice_draft_pos = file_other_cut['corrected_isfdraft']\n",
    "ice_draft_neg = -ice_draft_pos"
   ]
  },
  {
   "cell_type": "code",
   "execution_count": null,
   "id": "alpine-porter",
   "metadata": {},
   "outputs": [],
   "source": [
    "isf_stack_mask = uf.create_stacked_mask(file_isf['ISF_mask'], file_isf.Nisf, ['y','x'], 'mask_coord')"
   ]
  },
  {
   "cell_type": "code",
   "execution_count": null,
   "id": "capital-century",
   "metadata": {},
   "outputs": [],
   "source": [
    "param_var_of_int_2D = file_isf[['ISF_mask', 'latitude', 'longitude', 'dGL']]\n",
    "param_var_of_int_1D = file_isf[['front_bot_depth_avg', 'front_bot_depth_max','isf_name']]"
   ]
  },
  {
   "cell_type": "code",
   "execution_count": null,
   "id": "productive-confusion",
   "metadata": {},
   "outputs": [],
   "source": [
    "geometry_info_2D = plume_charac.merge(param_var_of_int_2D).merge(ice_draft_pos).rename({'corrected_isfdraft':'ice_draft_pos'}).merge(grid_cell_area_weighted).rename({'isfdraft_conc':'grid_cell_area_weighted'}).merge(file_isf_conc)\n",
    "geometry_info_1D = param_var_of_int_1D"
   ]
  },
  {
   "cell_type": "markdown",
   "id": "residential-restoration",
   "metadata": {},
   "source": [
    "SIMPLE PARAMS"
   ]
  },
  {
   "cell_type": "code",
   "execution_count": null,
   "id": "obvious-production",
   "metadata": {},
   "outputs": [],
   "source": [
    "nisf_list = geometry_info_1D.Nisf\n",
    "T_S_profile = file_TS.ffill(dim='depth')\n",
    "\n",
    "mparam = # POSSIBILITIES: ['linear_local', 'quadratic_local', 'quadratic_local_locslope', 'quadratic_local_cavslope', 'quadratic_mixed_mean', 'quadratic_mixed_locslope','quadratic_mixed_cavslope'] \n",
    "\n",
    "gamma = # fill in\n",
    "ds_2D, ds_1D = meltf.calculate_melt_rate_1D_and_2D_all_isf(nisf_list, \n",
    "                                                           T_S_profile, \n",
    "                                                           geometry_info_2D, \n",
    "                                                           geometry_info_1D, \n",
    "                                                           isf_stack_mask, \n",
    "                                                           mparam, \n",
    "                                                           gamma, \n",
    "                                                           U_param=True)\n",
    "\n",
    "\n",
    "ds_2D.to_netcdf(outputpath_melt+'melt_rates_2D_'+mparam+'.nc')\n",
    "ds_1D.to_netcdf(outputpath_melt+'melt_rates_1D_'+mparam+'.nc')"
   ]
  },
  {
   "cell_type": "markdown",
   "id": "egyptian-mongolia",
   "metadata": {},
   "source": [
    "PLUMES"
   ]
  },
  {
   "cell_type": "code",
   "execution_count": null,
   "id": "amateur-baking",
   "metadata": {},
   "outputs": [],
   "source": [
    "nisf_list = geometry_info_1D.Nisf\n",
    "T_S_profile = file_TS.ffill(dim='depth')\n",
    "\n",
    "mparam = # POSSIBILITIES: ['lazero19', 'lazero19_modif']\n",
    "\n",
    "gamma = # fill in\n",
    "E0 = # fill in\n",
    "                 \n",
    "ds_2D, ds_1D = meltf.calculate_melt_rate_1D_and_2D_all_isf(nisf_list, \n",
    "                                                           T_S_profile, \n",
    "                                                           geometry_info_2D, \n",
    "                                                           geometry_info_1D, \n",
    "                                                           isf_stack_mask, \n",
    "                                                           mparam, \n",
    "                                                           gamma, \n",
    "                                                           E0=E0, \n",
    "                                                           verbose=True)\n",
    "            \n",
    "ds_2D.to_netcdf(outputpath_melt+'melt_rates_2D_'+mparam+'.nc')\n",
    "ds_1D.to_netcdf(outputpath_melt+'melt_rates_1D_'+mparam+'.nc')"
   ]
  },
  {
   "cell_type": "markdown",
   "id": "elder-processor",
   "metadata": {},
   "source": [
    "BOXES"
   ]
  },
  {
   "cell_type": "code",
   "execution_count": null,
   "id": "mental-piece",
   "metadata": {},
   "outputs": [],
   "source": [
    "nisf_list = geometry_info_1D.Nisf\n",
    "T_S_profile = file_TS.ffill(dim='depth') \n",
    "picop_opt = 'no'\n",
    "\n",
    "nD_config = # POSSIBILITIES: 1 to 4\n",
    "pism_version = # POSSIBILITIES: 'yes' or 'no'\n",
    "\n",
    "mparam = 'boxes_'+str(nD_config)+'_pism'+pism_version+'_picop'+picop_opt\n",
    "\n",
    "C = # fill in\n",
    "gamma = # fill in\n",
    "\n",
    "ds_2D, ds_1D = meltf.calculate_melt_rate_1D_and_2D_all_isf(nisf_list, \n",
    "                                                           T_S_profile, \n",
    "                                                           geometry_info_2D, \n",
    "                                                           geometry_info_1D, \n",
    "                                                           isf_stack_mask, \n",
    "                                                           mparam, \n",
    "                                                           gamma,\n",
    "                                                           C=C, \n",
    "                                                           angle_option='local', \n",
    "                                                           box_charac_2D=box_charac_all_2D, \n",
    "                                                           box_charac_1D=box_charac_all_1D, \n",
    "                                                           box_tot=nD_config, \n",
    "                                                           box_tot_option='nD_config', \n",
    "                                                           pism_version=pism_version, \n",
    "                                                           picop_opt=picop_opt)\n",
    "                                       \n",
    "ds_2D.to_netcdf(outputpath_melt+'melt_rates_2D_'+mparam+'.nc')\n",
    "ds_1D.to_netcdf(outputpath_melt+'melt_rates_1D_'+mparam+'.nc')"
   ]
  },
  {
   "cell_type": "markdown",
   "id": "156efcc0-6f48-4fca-9501-22feabb83045",
   "metadata": {},
   "source": [
    "PICOP"
   ]
  },
  {
   "cell_type": "code",
   "execution_count": null,
   "id": "b6c78595-705f-4a78-8544-23fe17120596",
   "metadata": {},
   "outputs": [],
   "source": [
    "nisf_list = geometry_info_1D.Nisf\n",
    "T_S_profile = file_TS.ffill(dim='depth') \n",
    "\n",
    "nD_config = # POSSIBILITIES: 1 to 4    \n",
    "pism_version = # POSSIBILITIES: 'yes' or 'no'\n",
    "picop_opt = # POSSIBILITIES: '2018' or '2019'\n",
    "\n",
    "mparam = 'boxes_'+str(nD_config)+'_pism'+pism_version+'_picopyes'\n",
    "\n",
    "C = # for box part - fill in\n",
    "gamma = # for box part - fill in\n",
    "\n",
    "gamma_plume = # for plume part - fill in\n",
    "E0 = # for plume part - fill in\n",
    "\n",
    "ds_2D, ds_1D = meltf.calculate_melt_rate_1D_and_2D_all_isf(nisf_list, \n",
    "                                                           T_S_profile, \n",
    "                                                           geometry_info_2D, \n",
    "                                                           geometry_info_1D, \n",
    "                                                           isf_stack_mask, \n",
    "                                                           mparam, \n",
    "                                                           gamma,\n",
    "                                                           C=C,\n",
    "                                                           E0=E0, \n",
    "                                                           angle_option='local',\n",
    "                                                           box_charac_2D=box_charac_all_2D, \n",
    "                                                           box_charac_1D=box_charac_all_1D, \n",
    "                                                           box_tot=nD_config, \n",
    "                                                           box_tot_option='nD_config', \n",
    "                                                           pism_version=pism_version,\n",
    "                                                           picop_opt=picop_opt, \n",
    "                                                           gamma_plume=gamma_plume)\n",
    "\n",
    "ds_2D.to_netcdf(outputpath_melt+'melt_rates_2D_'+mparam+'.nc')\n",
    "ds_1D.to_netcdf(outputpath_melt+'melt_rates_1D_'+mparam+'.nc')"
   ]
  }
 ],
 "metadata": {
  "kernelspec": {
   "display_name": "py38",
   "language": "python",
   "name": "py38"
  },
  "language_info": {
   "codemirror_mode": {
    "name": "ipython",
    "version": 3
   },
   "file_extension": ".py",
   "mimetype": "text/x-python",
   "name": "python",
   "nbconvert_exporter": "python",
   "pygments_lexer": "ipython3",
   "version": "3.8.20"
  }
 },
 "nbformat": 4,
 "nbformat_minor": 5
}
