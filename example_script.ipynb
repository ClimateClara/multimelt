{
 "cells": [
  {
   "cell_type": "code",
   "execution_count": null,
   "id": "therapeutic-berry",
   "metadata": {},
   "outputs": [],
   "source": [
    "\"\"\"\n",
    "Created on Fri Sep 18 14:29 2021\n",
    "\n",
    "This is an example script to apply multimelt\n",
    "\n",
    "@author: Clara Burgard\n",
    "\"\"\""
   ]
  },
  {
   "cell_type": "code",
   "execution_count": null,
   "id": "hungry-trader",
   "metadata": {},
   "outputs": [],
   "source": [
    "import xarray as xr\n",
    "import numpy as np\n",
    "import matplotlib.pyplot as plt\n",
    "from matplotlib import cm\n",
    "import cartopy\n",
    "import cartopy.crs as ccrs\n",
    "import matplotlib as mpl\n",
    "import pandas as pd  \n",
    "from tqdm.notebook import trange, tqdm\n",
    "import time\n",
    "import multimelt.melt_functions as meltf\n",
    "import multimelt.plume_functions as pf\n",
    "import multimelt.analysis_functions as ana\n",
    "import multimelt.useful_functions as uf\n",
    "from multimelt.constants import *\n",
    "import seaborn as sns\n",
    "import os, glob\n",
    "import distributed"
   ]
  },
  {
   "cell_type": "code",
   "execution_count": null,
   "id": "overall-subscription",
   "metadata": {},
   "outputs": [],
   "source": [
    "%matplotlib qt5"
   ]
  },
  {
   "cell_type": "markdown",
   "id": "valuable-pillow",
   "metadata": {},
   "source": [
    "READ IN DATA"
   ]
  },
  {
   "cell_type": "code",
   "execution_count": null,
   "id": "informative-socket",
   "metadata": {},
   "outputs": [],
   "source": [
    "inputpath_data= #path to folder containing file_other and file_conc\n",
    "inputpath_mask = #path to folder containing file_isf_orig\n",
    "inputpath_profiles = #path to folder containing file_TS_orig\n",
    "outputpath_simple = #path to folder containing gammas_file_simple\n",
    "\n",
    "inputpath_plumes =  #path to folder containing the file with plume characteristics\n",
    "inputpath_boxes = #path to folder containing the file with box characteristics\n",
    "\n",
    "outputpath_melt = #path to write out output"
   ]
  },
  {
   "cell_type": "code",
   "execution_count": null,
   "id": "further-prison",
   "metadata": {},
   "outputs": [],
   "source": [
    "# make the domain a little smaller to make the computation even more efficient - file isf has already been made smaller at its creation\n",
    "map_lim = [-3000000,3000000]"
   ]
  },
  {
   "cell_type": "code",
   "execution_count": null,
   "id": "straight-hearts",
   "metadata": {},
   "outputs": [],
   "source": [
    "file_other = xr.open_dataset(inputpath_data+'corrected_draft_bathy_isf.nc')#file containing 'corrected_isfdraft'\n",
    "file_other_cut = uf.cut_domain_stereo(file_other, map_lim, map_lim)\n",
    "file_conc = xr.open_dataset(inputpath_data+'isfdraft_conc_Ant_stereo.nc') #file containing 'isfdraft_conc'\n",
    "file_conc_cut = uf.cut_domain_stereo(file_conc, map_lim, map_lim)"
   ]
  },
  {
   "cell_type": "code",
   "execution_count": null,
   "id": "designing-hollow",
   "metadata": {},
   "outputs": [],
   "source": [
    "file_isf_orig = xr.open_dataset(inputpath_mask+'nemo_5km_isf_masks_and_info_and_distance_new.nc') #file containing 'ISF_mask','latitude', 'longitude','front_bot_depth_avg', 'front_bot_depth_max','isf_name'\n",
    "nonnan_Nisf = file_isf_orig['Nisf'].where(np.isfinite(file_isf_orig['front_bot_depth_max']), drop=True).astype(int)\n",
    "file_isf_nonnan = file_isf_orig.sel(Nisf=nonnan_Nisf)\n",
    "large_isf = file_isf_nonnan['Nisf'].where(file_isf_nonnan['isf_area_here'] >= 2500, drop=True)\n",
    "file_isf = file_isf_nonnan.sel(Nisf=large_isf)\n",
    "file_isf['isf_name'] = file_isf['isf_name'].astype(str)\n",
    "file_isf['region'] = file_isf['region'].astype(str)\n",
    "\n",
    "file_TS_orig = xr.open_dataset(inputpath_profiles+'T_S_mean_prof_corrected_km_contshelf_and_offshore_1980-2018.nc') #file containing 'theta_ocean' and 'salinity_ocean'\n",
    "file_TS = file_TS_orig.sel(Nisf=large_isf)"
   ]
  },
  {
   "cell_type": "code",
   "execution_count": null,
   "id": "utility-market",
   "metadata": {},
   "outputs": [],
   "source": [
    "box_charac_all_2D = xr.open_dataset(inputpath_boxes + 'nemo_5km_boxes_2D.nc')\n",
    "box_charac_all_1D = xr.open_dataset(inputpath_boxes + 'nemo_5km_boxes_1D.nc')\n",
    "plume_charac = xr.open_dataset(inputpath_plumes+'nemo_5km_plume_characteristics.nc')"
   ]
  },
  {
   "cell_type": "markdown",
   "id": "477aa052-bb4e-4bf5-b3bf-ce6605ac4de1",
   "metadata": {},
   "source": [
    "PREPARE DATA"
   ]
  },
  {
   "cell_type": "code",
   "execution_count": null,
   "id": "streaming-telescope",
   "metadata": {},
   "outputs": [],
   "source": [
    "lon = file_isf.longitude\n",
    "lat = file_isf.latitude"
   ]
  },
  {
   "cell_type": "code",
   "execution_count": null,
   "id": "vocal-plain",
   "metadata": {},
   "outputs": [],
   "source": [
    "file_isf_conc = file_conc_cut['isfdraft_conc']\n",
    "\n",
    "xx = file_isf.x\n",
    "yy = file_isf.y\n",
    "dx = (xx[2] - xx[1]).values\n",
    "dy = (yy[2] - yy[1]).values\n",
    "grid_cell_area = abs(dx*dy)  \n",
    "grid_cell_area_weighted = file_isf_conc * grid_cell_area"
   ]
  },
  {
   "cell_type": "code",
   "execution_count": null,
   "id": "dated-checkout",
   "metadata": {},
   "outputs": [],
   "source": [
    "ice_draft_pos = file_other_cut['corrected_isfdraft']\n",
    "ice_draft_neg = -ice_draft_pos"
   ]
  },
  {
   "cell_type": "code",
   "execution_count": null,
   "id": "alpine-porter",
   "metadata": {},
   "outputs": [],
   "source": [
    "isf_stack_mask = uf.create_stacked_mask(file_isf['ISF_mask'], file_isf.Nisf, ['y','x'], 'mask_coord')"
   ]
  },
  {
   "cell_type": "code",
   "execution_count": null,
   "id": "capital-century",
   "metadata": {},
   "outputs": [],
   "source": [
    "param_var_of_int_2D = file_isf[['ISF_mask', 'latitude', 'longitude']]\n",
    "param_var_of_int_1D = file_isf[['front_bot_depth_avg', 'front_bot_depth_max','isf_name']]"
   ]
  },
  {
   "cell_type": "code",
   "execution_count": null,
   "id": "productive-confusion",
   "metadata": {},
   "outputs": [],
   "source": [
    "geometry_info_2D = plume_charac.merge(param_var_of_int_2D).merge(ice_draft_pos).rename({'corrected_isfdraft':'ice_draft_pos'}).merge(grid_cell_area_weighted).rename({'isfdraft_conc':'grid_cell_area_weighted'}).merge(file_isf_conc)\n",
    "geometry_info_1D = param_var_of_int_1D"
   ]
  },
  {
   "cell_type": "markdown",
   "id": "residential-restoration",
   "metadata": {},
   "source": [
    "SIMPLE PARAMS"
   ]
  },
  {
   "cell_type": "code",
   "execution_count": null,
   "id": "analyzed-renaissance",
   "metadata": {},
   "outputs": [],
   "source": [
    "gammas_file_simple = xr.open_dataset(outputpath_simple_all+'linreg_experiment_results.nc') # from tuning\n",
    "#######\n",
    "favier_gammas = xr.DataArray(np.array([2.030e-5,99.32e-5,132.9e-5]),dims='param') # from Favier et al. 2019\n",
    "favier_gammas = favier_gammas.assign_coords({'param': ['linear_local', 'quadratic_local', 'quadratic_mixed_mean']})\n",
    "#favier_gammas = xr.DataArray(np.array([1.060e-5,36.23e-5,36.3e-5]),dims='param')\n",
    "#favier_gammas = favier_gammas.assign_coords({'param': ['linear_local', 'quadratic_local', 'quadratic_mixed_mean']})\n",
    "#######\n",
    "lipscomb_values_mpery = xr.DataArray(np.array([[1.11*10**4,1.44*10**4,2.06*10**6],\n",
    "                                              [4.95*10**4,1.59*10**5,5.37*10**6]]), dims={'calib': ['MeanAnt','PIGL'], 'param': ['quadratic_local', 'quadratic_mixed_mean', 'quadratic_mixed_mean_locslope']})\n",
    "lipscomb_values_mpery = lipscomb_values_mpery.assign_coords({'calib': ['MeanAnt','PIGL'], 'param': ['quadratic_local', 'quadratic_mixed_mean', 'quadratic_mixed_locslope']})\n",
    "\n",
    "lipscomb_values_mpers = lipscomb_values_mpery/yearinsec #from Lipscomb et al. 2021/Jourdain et al. 2020"
   ]
  },
  {
   "cell_type": "code",
   "execution_count": null,
   "id": "obvious-production",
   "metadata": {},
   "outputs": [],
   "source": [
    "simple_param_types = ['linear_local', 'quadratic_local', 'quadratic_local_locslope', 'quadratic_local_cavslope', \n",
    "                      'quadratic_mixed_mean', 'quadratic_mixed_locslope','quadratic_mixed_cavslope'] \n",
    "\n",
    "nisf_list = geometry_info_1D.Nisf\n",
    "T_S_profile = file_TS.ffill(dim='depth')\n",
    "\n",
    "for mparam in simple_param_types:\n",
    "        \n",
    "    for gamma_choice in ['tuned','favier','lipscomb']:\n",
    "        if gamma_choice == 'tuned':\n",
    "            gamma = gammas_file_simple['slope'].sel(param=mparam)\n",
    "            ds_2D, ds_1D = meltf.calculate_melt_rate_1D_and_2D_all_isf(nisf_list, T_S_profile, geometry_info_2D, geometry_info_1D, isf_stack_mask, mparam, gamma, U_param=True)\n",
    "\n",
    "            ds_2D.to_netcdf(outputpath_melt+'melt_rates_2D_'+mparam+'_'+gamma_choice+'_correctedTS.nc')\n",
    "            ds_1D.to_netcdf(outputpath_melt+'melt_rates_1D_'+mparam+'_'+gamma_choice+'_correctedTS.nc')\n",
    "                \n",
    "        elif gamma_choice == 'favier':\n",
    "            if mparam in favier_gammas.param.values:\n",
    "                gamma = favier_gammas.sel(param=mparam)\n",
    "                ds_2D, ds_1D = meltf.calculate_melt_rate_1D_and_2D_all_isf(nisf_list, T_S_profile, geometry_info_2D, geometry_info_1D, isf_stack_mask, mparam, gamma, U_param=False)\n",
    "                \n",
    "                ds_2D.to_netcdf(outputpath_melt+'melt_rates_2D_'+mparam+'_'+gamma_choice+'_correctedTS.nc')\n",
    "                ds_1D.to_netcdf(outputpath_melt+'melt_rates_1D_'+mparam+'_'+gamma_choice+'_correctedTS.nc')\n",
    "                \n",
    "        elif gamma_choice == 'lipscomb':\n",
    "            if mparam in lipscomb_values_mpers.param.values:\n",
    "                gamma = lipscomb_values_mpers.sel(param=mparam, calib='MeanAnt')\n",
    "                ds_2D, ds_1D = meltf.calculate_melt_rate_1D_and_2D_all_isf(nisf_list, T_S_profile, geometry_info_2D, geometry_info_1D, isf_stack_mask, mparam, gamma, U_param=False)  \n",
    "                \n",
    "                ds_2D.to_netcdf(outputpath_melt+'melt_rates_2D_'+mparam+'_'+gamma_choice+'_correctedTS.nc')\n",
    "                ds_1D.to_netcdf(outputpath_melt+'melt_rates_1D_'+mparam+'_'+gamma_choice+'_correctedTS.nc')"
   ]
  },
  {
   "cell_type": "markdown",
   "id": "egyptian-mongolia",
   "metadata": {},
   "source": [
    "PLUMES"
   ]
  },
  {
   "cell_type": "code",
   "execution_count": null,
   "id": "amateur-baking",
   "metadata": {},
   "outputs": [],
   "source": [
    "plume_param_types = ['lazero19', 'lazero19_modif']\n",
    "nisf_list = geometry_info_1D.Nisf\n",
    "nisf_list = geometry_info_1D.Nisf\n",
    "T_S_profile = file_TS.ffill(dim='depth')\n",
    "\n",
    "for mparam in plume_param_types:\n",
    "    for gamma_choice in ['tuned']: #'orig'\n",
    "        \n",
    "        if gamma_choice == 'tuned':\n",
    "            if mparam == 'lazero19':\n",
    "                gamma = 0.00013964 #tuning with 4 runs\n",
    "                E0 = 0.06025211 #tuning with 4 runs\n",
    "                 \n",
    "                \n",
    "            elif mparam == 'lazero19_modif':\n",
    "                gamma = 0.00020468 #tuning with 4 runs\n",
    "                E0 = 0.08860515 #tuning with 4 runs\n",
    "                \n",
    "            ds_2D, ds_1D = meltf.calculate_melt_rate_1D_and_2D_all_isf(nisf_list, T_S_profile, geometry_info_2D, geometry_info_1D, isf_stack_mask, mparam, gamma, E0=E0, verbose=True)\n",
    "            \n",
    "        elif gamma_choice == 'orig':\n",
    "            \n",
    "            gamma = gamma_eff_T_lazero\n",
    "            E0 = E0_lazero\n",
    "                \n",
    "            ds_2D, ds_1D = meltf.calculate_melt_rate_1D_and_2D_all_isf(nisf_list, T_S_profile, geometry_info_2D, geometry_info_1D, isf_stack_mask, mparam, gamma, E0=E0, verbose=True)\n",
    "                \n",
    "        ds_2D.to_netcdf(outputpath_melt+'melt_rates_2D_'+mparam+'_'+gamma_choice+'_correctedTS.nc')\n",
    "        ds_1D.to_netcdf(outputpath_melt+'melt_rates_1D_'+mparam+'_'+gamma_choice+'_correctedTS.nc')"
   ]
  },
  {
   "cell_type": "markdown",
   "id": "elder-processor",
   "metadata": {},
   "source": [
    "BOXES"
   ]
  },
  {
   "cell_type": "code",
   "execution_count": null,
   "id": "8b275556-51c4-4d2f-8f4d-ec89d10116dd",
   "metadata": {},
   "outputs": [],
   "source": [
    "tuned_box_gammas = xr.DataArray(np.array([0.82e-5,0.60e-5,0.82e-5]),dims='nD_config')\n",
    "tuned_box_gammas = tuned_box_gammas.assign_coords({'nD_config': range(1,4)})\n",
    "tuned_box_Cs = xr.DataArray(np.array([0.52e6,0.58e6,0.52e6]),dims='nD_config')\n",
    "tuned_box_Cs = tuned_box_Cs.assign_coords({'nD_config': range(1,4)})"
   ]
  },
  {
   "cell_type": "code",
   "execution_count": null,
   "id": "mental-piece",
   "metadata": {},
   "outputs": [],
   "source": [
    "nisf_list = geometry_info_1D.Nisf\n",
    "T_S_profile = file_TS.ffill(dim='depth') \n",
    "\n",
    "for nD_config in range(1,4):\n",
    "    \n",
    "    for pism_version in ['yes','no']: \n",
    "        \n",
    "        for picop_opt in ['yes','no']: \n",
    "\n",
    "            mparam = 'boxes_'+str(nD_config)+'_pism'+pism_version+'_picop'+picop_opt\n",
    "\n",
    "            for gamma_choice in ['orig','tuned_ronja','tuned_clara']:\n",
    "\n",
    "                if gamma_choice == 'orig':\n",
    "\n",
    "                    C = C_pico\n",
    "                    gamma = gT_star_pico\n",
    "                    E0 = E0_lazero\n",
    "                    \n",
    "                    if picop_opt == 'yes':\n",
    "                        gamma = gamma_eff_T_lazero\n",
    "\n",
    "                    ds_2D, ds_1D = meltf.calculate_melt_rate_1D_and_2D_all_isf(nisf_list, T_S_profile, geometry_info_2D, geometry_info_1D, isf_stack_mask, mparam, gamma,\n",
    "                                                          C=C, E0=E0, angle_option='appenB',\n",
    "                                                          box_charac_2D=box_charac_all_2D, box_charac_1D=box_charac_all_1D, box_tot=nD_config, box_tot_option='nD_config', \n",
    "                                                          pism_version=pism_version, picop_opt=picop_opt)\n",
    "\n",
    "                    ds_2D.to_netcdf(outputpath_melt+'melt_rates_2D_'+mparam+'_'+gamma_choice+'_correctedTS.nc')\n",
    "                    ds_1D.to_netcdf(outputpath_melt+'melt_rates_1D_'+mparam+'_'+gamma_choice+'_correctedTS.nc')\n",
    "                    \n",
    "                elif gamma_choice == 'tuned_ronja':\n",
    "\n",
    "                    C = 2.0e6\n",
    "                    gamma = 5.5e-5\n",
    "                    E0 = E0_lazero\n",
    "\n",
    "                    if picop_opt == 'yes':\n",
    "                        gamma = gamma_eff_T_lazero\n",
    "\n",
    "                    ds_2D, ds_1D = meltf.calculate_melt_rate_1D_and_2D_all_isf(nisf_list, T_S_profile, geometry_info_2D, geometry_info_1D, isf_stack_mask, mparam, gamma,\n",
    "                                                          C=C, E0=E0, angle_option='appenB',\n",
    "                                                          box_charac_2D=box_charac_all_2D, box_charac_1D=box_charac_all_1D, box_tot=nD_config, box_tot_option='nD_config', \n",
    "                                                          pism_version=pism_version, picop_opt=picop_opt, T_corrections=True)\n",
    "                    \n",
    "                    ds_2D.to_netcdf(outputpath_melt+'melt_rates_2D_'+mparam+'_'+gamma_choice+'_correctedTS.nc')\n",
    "                    ds_1D.to_netcdf(outputpath_melt+'melt_rates_1D_'+mparam+'_'+gamma_choice+'_correctedTS.nc')\n",
    "\n",
    "                elif gamma_choice == 'tuned_clara':\n",
    "                    \n",
    "                    C = tuned_box_Cs.sel(nD_config=nD_config).values\n",
    "                    gamma = tuned_box_gammas.sel(nD_config=nD_config).values\n",
    "                    E0 = E0_lazero\n",
    "\n",
    "                    if picop_opt == 'yes':\n",
    "                        gamma = gamma_eff_T_lazero\n",
    "                        \n",
    "                    ds_2D, ds_1D = meltf.calculate_melt_rate_1D_and_2D_all_isf(nisf_list, T_S_profile, geometry_info_2D, geometry_info_1D, isf_stack_mask, mparam, gamma,\n",
    "                                                          C=C, E0=E0, angle_option='appenB',\n",
    "                                                          box_charac_2D=box_charac_all_2D, box_charac_1D=box_charac_all_1D, box_tot=nD_config, box_tot_option='nD_config', \n",
    "                                                          pism_version=pism_version, picop_opt=picop_opt)\n",
    "                    \n",
    "                    ds_2D.to_netcdf(outputpath_melt+'melt_rates_2D_'+mparam+'_'+gamma_choice+'_correctedTS.nc')\n",
    "                    ds_1D.to_netcdf(outputpath_melt+'melt_rates_1D_'+mparam+'_'+gamma_choice+'_correctedTS.nc')"
   ]
  }
 ],
 "metadata": {
  "kernelspec": {
   "display_name": "py38",
   "language": "python",
   "name": "py38"
  },
  "language_info": {
   "codemirror_mode": {
    "name": "ipython",
    "version": 3
   },
   "file_extension": ".py",
   "mimetype": "text/x-python",
   "name": "python",
   "nbconvert_exporter": "python",
   "pygments_lexer": "ipython3",
   "version": "3.8.10"
  }
 },
 "nbformat": 4,
 "nbformat_minor": 5
}
